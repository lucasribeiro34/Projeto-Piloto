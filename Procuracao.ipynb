{
 "cells": [
  {
   "cell_type": "code",
   "execution_count": 10,
   "id": "05c15e37-8608-42a8-b56e-45b4b76dc404",
   "metadata": {},
   "outputs": [],
   "source": [
    "import pandas as pd  # Utilizada para ler e manipular dados em planilhas Excel (DataFrames).\n",
    "from docx import Document  # Permite criar e manipular documentos do Word (.docx).\n",
    "from docx.shared import Pt  # Usado para definir o tamanho da fonte nos documentos Word.\n",
    "from docx.enum.text import WD_PARAGRAPH_ALIGNMENT  # Fornece opções de alinhamento de parágrafos no Word (ex: centralizado).\n",
    "import warnings  # Usado para ignorar ou tratar mensagens de aviso durante a execução do código.\n",
    "import re  # Biblioteca padrão para operações com expressões regulares (ex: validações ou extrações de texto).\n",
    "import win32com.client  # Permite controlar aplicativos do Microsoft Office via automação COM (ex: Word, Excel).\n",
    "import comtypes.client  # Utilizado especificamente para automação do Word no Windows, incluindo conversão para PDF.\n",
    "import os  # Fornece funcionalidades para manipulação de arquivos e diretórios no sistema operacional.\n"
   ]
  },
  {
   "cell_type": "code",
   "execution_count": 11,
   "id": "2a14ccaf-ea21-43e8-b5a2-dd4860a2a0b5",
   "metadata": {},
   "outputs": [
    {
     "data": {
      "text/plain": [
       "'\\n1- Inserir o processo de loop para os casos em que a planilha tiver mais de 1 registro ok\\n2- Converter o resultado final para PDF ok\\n3- Colocar esse projeto no HB\\n4- Exportar um histórico para o result\\n\\n'"
      ]
     },
     "execution_count": 11,
     "metadata": {},
     "output_type": "execute_result"
    }
   ],
   "source": [
    "\"\"\"\n",
    "1- Inserir o processo de loop para os casos em que a planilha tiver mais de 1 registro ok\n",
    "2- Converter o resultado final para PDF ok\n",
    "3- Colocar esse projeto no HB\n",
    "4- Exportar um histórico para o result\n",
    "\n",
    "\"\"\""
   ]
  },
  {
   "cell_type": "code",
   "execution_count": 12,
   "id": "1acc2a76-145f-4052-8d90-da91635cffbf",
   "metadata": {},
   "outputs": [],
   "source": [
    "#Criação das funções para a formatação dos dados e conversão para PDF\n",
    "\n",
    "def formatar_cpf(cpf):\n",
    "    cpf = ''.join(filter(str.isdigit, str(cpf)))  # Remove quaisquer caracteres não numéricos\n",
    "    if len(cpf) == 11:\n",
    "        return f\"{cpf[:3]}.{cpf[3:6]}.{cpf[6:9]}-{cpf[9:]}\"\n",
    "    else:\n",
    "        return \"CPF inválido\"\n",
    "\n",
    "def formatar_telefone(numero):\n",
    "    # Trata valores None ou NaN\n",
    "    if numero is None:\n",
    "        return \"\"\n",
    "\n",
    "    # Se for bytes, converte para string\n",
    "    if isinstance(numero, bytes):\n",
    "        numero = numero.decode('utf-8')\n",
    "\n",
    "    # Garante que é uma string\n",
    "    numero = str(numero)\n",
    "\n",
    "    # Remove caracteres não numéricos\n",
    "    numero = re.sub(r'\\D', '', numero)\n",
    "\n",
    "    # Formata com base na quantidade de dígitos\n",
    "    if len(numero) == 11:\n",
    "        return f\"({numero[:2]}) {numero[2:7]}-{numero[7:]}\"\n",
    "    elif len(numero) == 10:\n",
    "        return f\"({numero[:2]}) {numero[2:6]}-{numero[6:]}\"\n",
    "    else:\n",
    "        return numero  # Retorna como está se não tiver formato esperado\n",
    "        \n",
    "# Função para converter DOCX para PDF (Windows)\n",
    "def docx_para_pdf(docx_file, pdf_file):\n",
    "    try:\n",
    "        word = comtypes.client.CreateObject('Word.Application')\n",
    "        doc = word.Documents.Open(docx_file)\n",
    "        doc.SaveAs(pdf_file, FileFormat=17)  # O formato 17 é para PDF\n",
    "        doc.Close()\n",
    "        word.Quit()\n",
    "        print(f\"Arquivo PDF salvo com sucesso: {pdf_file}\")\n",
    "    except Exception as e:\n",
    "        print(f\"Erro ao converter para PDF: {e}\")\n",
    "\n",
    "# Função para verificar se o arquivo foi salvo corretamente\n",
    "def verificar_arquivo(arquivo):\n",
    "    if os.path.exists(arquivo):\n",
    "        return True\n",
    "    else:\n",
    "        print(f\"Arquivo não encontrado: {arquivo}\")\n",
    "        return False"
   ]
  },
  {
   "cell_type": "code",
   "execution_count": 13,
   "id": "07bd6d66-4476-41f4-a099-36416a235cb1",
   "metadata": {},
   "outputs": [
    {
     "name": "stdout",
     "output_type": "stream",
     "text": [
      "Arquivo PDF salvo com sucesso: C:\\Users\\lucas\\Script Python\\Procuração - Pessoa Exemplo 2.pdf\n",
      "Arquivo PDF salvo com sucesso: C:\\Users\\lucas\\Script Python\\Procuração - Pessoa Exemplo 3.pdf\n",
      "Arquivo PDF salvo com sucesso: C:\\Users\\lucas\\Script Python\\Procuração - Pessoa Exemplo 4.pdf\n",
      "Arquivo PDF salvo com sucesso: C:\\Users\\lucas\\Script Python\\Procuração - Pessoa Exemplo 5.pdf\n",
      "Arquivo PDF salvo com sucesso: C:\\Users\\lucas\\Script Python\\Procuração - Pessoa Exemplo 6.pdf\n",
      "Arquivo PDF salvo com sucesso: C:\\Users\\lucas\\Script Python\\Procuração - Pessoa Exemplo 7.pdf\n",
      "Arquivo PDF salvo com sucesso: C:\\Users\\lucas\\Script Python\\Procuração - Pessoa Exemplo 8.pdf\n",
      "Arquivo PDF salvo com sucesso: C:\\Users\\lucas\\Script Python\\Procuração - Pessoa Exemplo 9.pdf\n",
      "Arquivo PDF salvo com sucesso: C:\\Users\\lucas\\Script Python\\Procuração - Pessoa Exemplo 10.pdf\n"
     ]
    }
   ],
   "source": [
    "# Ignorar mensagens de aviso\n",
    "warnings.filterwarnings(\"ignore\", category=UserWarning, module=\"openpyxl\")\n",
    "\n",
    "# Carrega os dados da planilha\n",
    "df = pd.read_excel(\"Procuração.xlsx\")\n",
    "\n",
    "# Itera sobre cada linha da planilha\n",
    "for index, dados in df.iterrows():\n",
    "    # Criação dos campos formatados\n",
    "    dados['CPF Formatado'] = formatar_cpf(dados['CPF'])\n",
    "    dados['Telefone Formatado'] = formatar_telefone(dados['Telefone para contato'])\n",
    "\n",
    "    # Monta o texto com base nas informações\n",
    "    texto = f\"\"\"{dados['Nome Completo']}, {dados['Nacionalidade']}, {dados['Estado Civil']}, {dados['Profissão']}, telefone n° {dados['Telefone Formatado']}, \\\n",
    "com {dados['Tipo do Documento']} n° {dados['Número do Documento']}, inscrito sob o C.P.F. n° {dados['CPF Formatado']}, \\\n",
    "E-mail: {dados['E-mail']}, residente e domiciliado a {dados['Endereço Completo']}, {dados['Bairro']}, {dados['Cidade']}, {dados['Estado']}.\"\"\"\n",
    "\n",
    "    # Abre o modelo\n",
    "    doc = Document('Procuração Modelo.docx')\n",
    "\n",
    "    # Adiciona o texto principal ao primeiro parágrafo\n",
    "    first_paragraph = doc.paragraphs[0]\n",
    "    run = first_paragraph.add_run(texto)\n",
    "    run.font.name = 'Times New Roman'\n",
    "    run.font.size = Pt(13)\n",
    "\n",
    "    # Adiciona um parágrafo com assinatura centralizada\n",
    "    #Colocar condicional para diferenciar o tipo de documento\n",
    "    paragrafo = doc.add_paragraph()\n",
    "    run = paragrafo.add_run(f\"__________________________________________________\\n{dados['Nome Completo']}\\n{dados['CPF Formatado']}\")\n",
    "    paragrafo.alignment = WD_PARAGRAPH_ALIGNMENT.CENTER\n",
    "    run.font.name = 'Times New Roman'\n",
    "    run.font.size = Pt(13)\n",
    "\n",
    "    # Salva o documento como arquivo temporário\n",
    "    nome_arquivo_temp_docx = f\"Procuração Temp - {dados['Nome Completo']}.docx\"\n",
    "    nome_arquivo_temp_docx = os.path.abspath(nome_arquivo_temp_docx)  # Garantir o caminho absoluto\n",
    "    doc.save(nome_arquivo_temp_docx)\n",
    "\n",
    "    # Caminho para salvar o PDF\n",
    "    nome_arquivo_pdf = f\"Procuração - {dados['Nome Completo']}.pdf\"\n",
    "    nome_arquivo_pdf = os.path.abspath(nome_arquivo_pdf)  # Garantir o caminho absoluto\n",
    "\n",
    "    # Verifica se o arquivo temporário foi salvo corretamente antes da conversão\n",
    "    if verificar_arquivo(nome_arquivo_temp_docx):\n",
    "        # Converte o arquivo DOCX para PDF\n",
    "        docx_para_pdf(nome_arquivo_temp_docx, nome_arquivo_pdf)\n",
    "\n",
    "        # Após conversão, exclui o arquivo temporário DOCX\n",
    "        os.remove(nome_arquivo_temp_docx)  # Remove o arquivo DOCX temporário\n"
   ]
  },
  {
   "cell_type": "code",
   "execution_count": 14,
   "id": "fb07dd22-df19-49ff-aaf5-de5d80a291d5",
   "metadata": {},
   "outputs": [
    {
     "name": "stdout",
     "output_type": "stream",
     "text": [
      "       Nome Completo Nacionalidade   Estado Civil   Profissão  \\\n",
      "0   Pessoa Exemplo 2    Brasileira  Divorciado(a)    Analista   \n",
      "1   Pessoa Exemplo 3    Brasileira  Divorciado(a)      Médico   \n",
      "2   Pessoa Exemplo 4    Brasileira  Divorciado(a)  Engenheiro   \n",
      "3   Pessoa Exemplo 5    Brasileira    Solteiro(a)   Professor   \n",
      "4   Pessoa Exemplo 6    Brasileira      Casado(a)  Engenheiro   \n",
      "5   Pessoa Exemplo 7    Brasileira      Casado(a)   Professor   \n",
      "6   Pessoa Exemplo 8    Brasileira  Divorciado(a)    Analista   \n",
      "7   Pessoa Exemplo 9    Brasileira  Divorciado(a)  Engenheiro   \n",
      "8  Pessoa Exemplo 10    Brasileira  Divorciado(a)      Médico   \n",
      "\n",
      "  Tipo do Documento  Número do Documento          CPF  Telefone para contato  \\\n",
      "0                RG              8735921  10897819107             2199287675   \n",
      "1                RG              7399244  43718088858             2199319046   \n",
      "2                RG              8191540  73748576914             2199452854   \n",
      "3                RG              2281901  22891655124             2199598110   \n",
      "4                RG              8230973  22572979754             2199131250   \n",
      "5                RG              2841025  88682261215             2199656999   \n",
      "6               CNH              2847076  73726609533             2199174399   \n",
      "7               CNH              5433659  84465398537             2199493923   \n",
      "8               CNH              6281275  47960503646             2199162731   \n",
      "\n",
      "                E-mail   Endereço Completo     Bairro     Cidade Estado  \n",
      "0   exemplo2@email.com   Rua Exemplo 2, 53   Bairro 2   Cidade 2     RJ  \n",
      "1   exemplo3@email.com   Rua Exemplo 3, 47   Bairro 3   Cidade 3     RJ  \n",
      "2   exemplo4@email.com   Rua Exemplo 4, 86   Bairro 4   Cidade 4     RJ  \n",
      "3   exemplo5@email.com   Rua Exemplo 5, 41   Bairro 5   Cidade 5     RJ  \n",
      "4   exemplo6@email.com   Rua Exemplo 6, 12   Bairro 6   Cidade 6     RJ  \n",
      "5   exemplo7@email.com   Rua Exemplo 7, 95   Bairro 7   Cidade 7     RJ  \n",
      "6   exemplo8@email.com   Rua Exemplo 8, 28   Bairro 8   Cidade 8     RJ  \n",
      "7   exemplo9@email.com   Rua Exemplo 9, 23   Bairro 9   Cidade 9     RJ  \n",
      "8  exemplo10@email.com  Rua Exemplo 10, 71  Bairro 10  Cidade 10     RJ  \n"
     ]
    }
   ],
   "source": [
    "print(df)"
   ]
  },
  {
   "cell_type": "code",
   "execution_count": null,
   "id": "c463ff93-82d0-433a-9fd2-a034da2fd77e",
   "metadata": {},
   "outputs": [],
   "source": []
  }
 ],
 "metadata": {
  "kernelspec": {
   "display_name": "Python 3 (ipykernel)",
   "language": "python",
   "name": "python3"
  },
  "language_info": {
   "codemirror_mode": {
    "name": "ipython",
    "version": 3
   },
   "file_extension": ".py",
   "mimetype": "text/x-python",
   "name": "python",
   "nbconvert_exporter": "python",
   "pygments_lexer": "ipython3",
   "version": "3.11.7"
  }
 },
 "nbformat": 4,
 "nbformat_minor": 5
}
